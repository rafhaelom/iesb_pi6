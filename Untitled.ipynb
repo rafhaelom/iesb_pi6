{
 "cells": [
  {
   "cell_type": "code",
   "execution_count": 7,
   "id": "d1478f39",
   "metadata": {},
   "outputs": [],
   "source": [
    "# Importando Bilbiotecas.\n",
    "import pandas as pd\n",
    "import numpy as np\n",
    "\n",
    "import seaborn as sns\n",
    "import matplotlib.pyplot as plt\n",
    "sns.axes_style(\"darkgrid\")\n",
    "sns.set_theme()"
   ]
  },
  {
   "cell_type": "code",
   "execution_count": 3,
   "id": "5a598ec7",
   "metadata": {},
   "outputs": [],
   "source": [
    "path = \"C:/Users/Usuario/Documents/IESB_2022/PI_6/SAUDE_REFORMATADO_2018_2022.txt\""
   ]
  },
  {
   "cell_type": "code",
   "execution_count": 5,
   "id": "aa94c0fc",
   "metadata": {},
   "outputs": [
    {
     "data": {
      "text/html": [
       "<div>\n",
       "<style scoped>\n",
       "    .dataframe tbody tr th:only-of-type {\n",
       "        vertical-align: middle;\n",
       "    }\n",
       "\n",
       "    .dataframe tbody tr th {\n",
       "        vertical-align: top;\n",
       "    }\n",
       "\n",
       "    .dataframe thead th {\n",
       "        text-align: right;\n",
       "    }\n",
       "</style>\n",
       "<table border=\"1\" class=\"dataframe\">\n",
       "  <thead>\n",
       "    <tr style=\"text-align: right;\">\n",
       "      <th></th>\n",
       "      <th>ANO_MES</th>\n",
       "      <th>ANO</th>\n",
       "      <th>MES</th>\n",
       "      <th>COD_MUNICIPIO_SEM_DV</th>\n",
       "      <th>servico</th>\n",
       "      <th>total</th>\n",
       "    </tr>\n",
       "  </thead>\n",
       "  <tbody>\n",
       "    <tr>\n",
       "      <th>0</th>\n",
       "      <td>2018_1</td>\n",
       "      <td>2018</td>\n",
       "      <td>1</td>\n",
       "      <td>110001</td>\n",
       "      <td>105</td>\n",
       "      <td>0</td>\n",
       "    </tr>\n",
       "    <tr>\n",
       "      <th>1</th>\n",
       "      <td>2018_1</td>\n",
       "      <td>2018</td>\n",
       "      <td>1</td>\n",
       "      <td>110001</td>\n",
       "      <td>107</td>\n",
       "      <td>0</td>\n",
       "    </tr>\n",
       "    <tr>\n",
       "      <th>2</th>\n",
       "      <td>2018_1</td>\n",
       "      <td>2018</td>\n",
       "      <td>1</td>\n",
       "      <td>110001</td>\n",
       "      <td>112</td>\n",
       "      <td>0</td>\n",
       "    </tr>\n",
       "    <tr>\n",
       "      <th>3</th>\n",
       "      <td>2018_1</td>\n",
       "      <td>2018</td>\n",
       "      <td>1</td>\n",
       "      <td>110001</td>\n",
       "      <td>113</td>\n",
       "      <td>0</td>\n",
       "    </tr>\n",
       "    <tr>\n",
       "      <th>4</th>\n",
       "      <td>2018_1</td>\n",
       "      <td>2018</td>\n",
       "      <td>1</td>\n",
       "      <td>110001</td>\n",
       "      <td>114</td>\n",
       "      <td>0</td>\n",
       "    </tr>\n",
       "  </tbody>\n",
       "</table>\n",
       "</div>"
      ],
      "text/plain": [
       "  ANO_MES   ANO  MES  COD_MUNICIPIO_SEM_DV  servico  total\n",
       "0  2018_1  2018    1                110001      105      0\n",
       "1  2018_1  2018    1                110001      107      0\n",
       "2  2018_1  2018    1                110001      112      0\n",
       "3  2018_1  2018    1                110001      113      0\n",
       "4  2018_1  2018    1                110001      114      0"
      ]
     },
     "execution_count": 5,
     "metadata": {},
     "output_type": "execute_result"
    }
   ],
   "source": [
    "df = pd.read_csv(path, sep=\";\")\n",
    "df.head()"
   ]
  },
  {
   "cell_type": "code",
   "execution_count": 6,
   "id": "1edc881c",
   "metadata": {},
   "outputs": [
    {
     "data": {
      "text/html": [
       "<div>\n",
       "<style scoped>\n",
       "    .dataframe tbody tr th:only-of-type {\n",
       "        vertical-align: middle;\n",
       "    }\n",
       "\n",
       "    .dataframe tbody tr th {\n",
       "        vertical-align: top;\n",
       "    }\n",
       "\n",
       "    .dataframe thead th {\n",
       "        text-align: right;\n",
       "    }\n",
       "</style>\n",
       "<table border=\"1\" class=\"dataframe\">\n",
       "  <thead>\n",
       "    <tr style=\"text-align: right;\">\n",
       "      <th></th>\n",
       "      <th>ANO_MES</th>\n",
       "      <th>ANO</th>\n",
       "      <th>MES</th>\n",
       "      <th>COD_MUNICIPIO_SEM_DV</th>\n",
       "      <th>servico</th>\n",
       "      <th>total</th>\n",
       "    </tr>\n",
       "  </thead>\n",
       "  <tbody>\n",
       "    <tr>\n",
       "      <th>8689195</th>\n",
       "      <td>2022_4</td>\n",
       "      <td>2022</td>\n",
       "      <td>4</td>\n",
       "      <td>530010</td>\n",
       "      <td>151</td>\n",
       "      <td>14</td>\n",
       "    </tr>\n",
       "    <tr>\n",
       "      <th>8689196</th>\n",
       "      <td>2022_4</td>\n",
       "      <td>2022</td>\n",
       "      <td>4</td>\n",
       "      <td>530010</td>\n",
       "      <td>153</td>\n",
       "      <td>0</td>\n",
       "    </tr>\n",
       "    <tr>\n",
       "      <th>8689197</th>\n",
       "      <td>2022_4</td>\n",
       "      <td>2022</td>\n",
       "      <td>4</td>\n",
       "      <td>530010</td>\n",
       "      <td>154</td>\n",
       "      <td>0</td>\n",
       "    </tr>\n",
       "    <tr>\n",
       "      <th>8689198</th>\n",
       "      <td>2022_4</td>\n",
       "      <td>2022</td>\n",
       "      <td>4</td>\n",
       "      <td>530010</td>\n",
       "      <td>155</td>\n",
       "      <td>0</td>\n",
       "    </tr>\n",
       "    <tr>\n",
       "      <th>8689199</th>\n",
       "      <td>2022_4</td>\n",
       "      <td>2022</td>\n",
       "      <td>4</td>\n",
       "      <td>530010</td>\n",
       "      <td>169</td>\n",
       "      <td>3</td>\n",
       "    </tr>\n",
       "  </tbody>\n",
       "</table>\n",
       "</div>"
      ],
      "text/plain": [
       "        ANO_MES   ANO  MES  COD_MUNICIPIO_SEM_DV  servico  total\n",
       "8689195  2022_4  2022    4                530010      151     14\n",
       "8689196  2022_4  2022    4                530010      153      0\n",
       "8689197  2022_4  2022    4                530010      154      0\n",
       "8689198  2022_4  2022    4                530010      155      0\n",
       "8689199  2022_4  2022    4                530010      169      3"
      ]
     },
     "execution_count": 6,
     "metadata": {},
     "output_type": "execute_result"
    }
   ],
   "source": [
    "df.tail()"
   ]
  },
  {
   "cell_type": "code",
   "execution_count": 8,
   "id": "57b187ce",
   "metadata": {},
   "outputs": [
    {
     "data": {
      "image/png": "[encoded data removed]",
      "text/plain": [
       "<Figure size 1152x576 with 1 Axes>"
      ]
     },
     "metadata": {
      "needs_background": "light"
     },
     "output_type": "display_data"
    }
   ],
   "source": [
    "sns.set_theme(style=\"dark\")\n",
    "plt.figure(figsize=(16, 8))\n",
    "\n",
    "sns.barplot(data=df, x=\"ANO\", y=\"total\")\n",
    "\n",
    "\n",
    "plt.title(\"Quantidade de Internação Hospitalar por Ano\", fontsize=(15))\n",
    "plt.show()"
   ]
  },
  {
   "cell_type": "code",
   "execution_count": null,
   "id": "55c2567a",
   "metadata": {},
   "outputs": [],
   "source": []
  }
 ],
 "metadata": {
  "kernelspec": {
   "display_name": "Python 3 (ipykernel)",
   "language": "python",
   "name": "python3"
  },
  "language_info": {
   "codemirror_mode": {
    "name": "ipython",
    "version": 3
   },
   "file_extension": ".py",
   "mimetype": "text/x-python",
   "name": "python",
   "nbconvert_exporter": "python",
   "pygments_lexer": "ipython3",
   "version": "3.9.7"
  }
 },
 "nbformat": 4,
 "nbformat_minor": 5
}
